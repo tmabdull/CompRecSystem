{
 "cells": [
  {
   "cell_type": "code",
   "execution_count": null,
   "id": "65819517",
   "metadata": {},
   "outputs": [
    {
     "name": "stderr",
     "output_type": "stream",
     "text": [
      "/Users/tahaabdullah/miniconda3/envs/comprec/lib/python3.13/site-packages/tqdm/auto.py:21: TqdmWarning: IProgress not found. Please update jupyter and ipywidgets. See https://ipywidgets.readthedocs.io/en/stable/user_install.html\n",
      "  from .autonotebook import tqdm as notebook_tqdm\n"
     ]
    },
    {
     "name": "stdout",
     "output_type": "stream",
     "text": [
      "\n",
      "=== SUMMARY BEFORE DEDUPLICATION ===\n",
      "Total subject properties: 88\n",
      "Total comp properties: 264\n",
      "Total available properties: 9820\n",
      "\n",
      "Deduplicating Subject Properties:\n",
      "Number of entries before merging duplicates: 88\n",
      "Number of entries after merging duplicates: 88\n",
      "Removed 0 duplicate entries\n",
      "\n",
      "Deduplicating Comp Properties:\n",
      "Number of entries before merging duplicates: 264\n",
      "Number of entries after merging duplicates: 255\n",
      "Removed 9 duplicate entries\n",
      "\n",
      "Deduplicating Available Properties:\n",
      "Number of entries before merging duplicates: 9820\n",
      "Number of entries after merging duplicates: 6028\n",
      "Removed 3792 duplicate entries\n",
      "\n",
      "=== SUMMARY AFTER DEDUPLICATION ===\n",
      "Total subject properties: 88\n",
      "Total comp properties: 255\n",
      "Total available properties: 6028)\n",
      "Processed data saved to CSV files.\n"
     ]
    }
   ],
   "source": [
    "from data_processing import *\n",
    "\n",
    "subjects_df, comps_df, properties_df = load_and_process_data()"
   ]
  },
  {
   "cell_type": "code",
   "execution_count": 2,
   "id": "5494cf28",
   "metadata": {},
   "outputs": [],
   "source": [
    "# # Examine the parsed addresses\n",
    "# std_address_cols = ['std_unit_number', 'std_street_number', 'std_street_name', 'std_city', 'std_province', 'std_postal_code', 'std_full_address']\n",
    "\n",
    "# subjects_address_cols = ['address', 'subject_city_province_zip'] + std_address_cols\n",
    "# comps_address_cols = ['address', 'city_province'] + std_address_cols\n",
    "# properties_address_cols = ['address', 'city', 'province'] + std_address_cols\n",
    "\n",
    "# subjects_df_v4 = pd.read_csv(\"./data/processed/processed_subjects_v4.csv\")\n",
    "# comps_df_v4 = pd.read_csv(\"./data/processed/processed_comps_v4.csv\")\n",
    "# properties_df_v4 = pd.read_csv(\"./data/processed/processed_properties_v4.csv\")\n",
    "\n",
    "# l, r = 0, 100\n",
    "\n",
    "# subjects_df_v4[subjects_address_cols][l:r].to_csv('./data/addresses/subjects_sample_addresses.csv', index=True)\n",
    "# comps_df_v4[comps_address_cols][l:r].to_csv('./data/addresses/comps_sample_addresses.csv', index=True)\n",
    "# properties_df_v4[properties_address_cols][l:r].to_csv('./data/addresses/properties_sample_addresses.csv', index=True)\n",
    "\n",
    "# print(\"Processed data saved to CSV files.\")\n",
    "\n",
    "# print(\"Sample of standardized subject addresses:\")\n",
    "# display(subjects_df_v4[subjects_address_cols].head())\n",
    "\n",
    "# print(\"\\nSample of standardized comp addresses:\")\n",
    "# display(comps_df_v4[comps_address_cols].head())\n",
    "\n",
    "# print(\"\\nSample of standardized property addresses:\")\n",
    "# display(properties_df_v4[properties_address_cols].head())"
   ]
  },
  {
   "cell_type": "code",
   "execution_count": 3,
   "id": "36d1728b",
   "metadata": {},
   "outputs": [
    {
     "name": "stdout",
     "output_type": "stream",
     "text": [
      "Missing values in Subject Properties:\n"
     ]
    },
    {
     "data": {
      "text/plain": [
       "municipality_district       1\n",
       "year_built                  9\n",
       "remaining_economic_life     3\n",
       "basement_area              12\n",
       "room_count                  1\n",
       "room_total                  1\n",
       "main_lvl_area              22\n",
       "second_lvl_area            45\n",
       "third_lvl_area             87\n",
       "gla                         0\n",
       "std_unit_number            85\n",
       "std_street_number           0\n",
       "std_street_name             0\n",
       "std_city                    0\n",
       "std_province                0\n",
       "std_postal_code             1\n",
       "std_full_address            0\n",
       "bedrooms                    1\n",
       "full_baths                  1\n",
       "half_baths                  1\n",
       "dtype: int64"
      ]
     },
     "metadata": {},
     "output_type": "display_data"
    },
    {
     "name": "stdout",
     "output_type": "stream",
     "text": [
      "\n",
      "Missing values in Comp Properties:\n"
     ]
    },
    {
     "data": {
      "text/plain": [
       "distance_to_subject      5\n",
       "sale_price               0\n",
       "dom                    123\n",
       "gla                      0\n",
       "room_count               7\n",
       "std_unit_number        227\n",
       "std_street_number        0\n",
       "std_street_name          0\n",
       "std_city                 0\n",
       "std_province             1\n",
       "std_postal_code          1\n",
       "std_full_address         0\n",
       "subject_address          0\n",
       "bedrooms                 0\n",
       "full_baths               0\n",
       "half_baths               0\n",
       "dtype: int64"
      ]
     },
     "metadata": {},
     "output_type": "display_data"
    },
    {
     "name": "stdout",
     "output_type": "stream",
     "text": [
      "\n",
      "Missing values in Available Properties:\n"
     ]
    },
    {
     "data": {
      "text/plain": [
       "id                             0\n",
       "bedrooms                      94\n",
       "gla                          119\n",
       "room_count                    94\n",
       "full_baths                  1979\n",
       "half_baths                  3253\n",
       "main_level_finished_area    4152\n",
       "upper_lvl_fin_area          4831\n",
       "bg_fin_area                 6028\n",
       "year_built                  2417\n",
       "close_price                   30\n",
       "latitude                       0\n",
       "longitude                      0\n",
       "std_unit_number             4846\n",
       "std_street_number            182\n",
       "std_street_name                0\n",
       "std_city                       2\n",
       "std_province                   0\n",
       "std_postal_code               25\n",
       "std_full_address               0\n",
       "subject_address                0\n",
       "dtype: int64"
      ]
     },
     "metadata": {},
     "output_type": "display_data"
    }
   ],
   "source": [
    "print(\"Missing values in Subject Properties:\")\n",
    "display(subjects_df.isna().sum())\n",
    "\n",
    "print(\"\\nMissing values in Comp Properties:\")\n",
    "display(comps_df.isna().sum())\n",
    "\n",
    "print(\"\\nMissing values in Available Properties:\")\n",
    "display(properties_df.isna().sum())"
   ]
  },
  {
   "cell_type": "code",
   "execution_count": 6,
   "id": "97fae438",
   "metadata": {},
   "outputs": [
    {
     "name": "stdout",
     "output_type": "stream",
     "text": [
      "Appraisal df pkl files found! Loading...\n",
      "Appraisal dfs loaded successfully\n",
      "Preparing training data...\n",
      "Total number of unique appraisals: 88\n",
      "Training appraisals: 70, Validation appraisals: 18\n",
      "Training subjects: 70, comps: 206, properties: 4672\n",
      "Validation subjects: 18, comps: 49, properties: 1356\n",
      "Training XGBoost model...\n",
      "[0]\ttrain-logloss:0.70922\tval-logloss:0.71691\n",
      "[76]\ttrain-logloss:0.00081\tval-logloss:0.26430\n",
      "Validation Accuracy: 0.9650\n",
      "Validation Precision: 0.0000\n",
      "Validation Recall: 0.0000\n",
      "Validation F1 Score: 0.0000\n",
      "Model, scaler, and feature_names saved with timestamp 20250518_223011\n",
      "Evaluating recommendation system...\n",
      "Evaluated on 17 subject properties\n",
      "Average Precision@3: 0.0000\n",
      "Overall Precision: 0.0000\n",
      "Overall Recall: 0.0000\n",
      "{'num_subjects': 17, 'avg_precision_at_3': 0.0, 'overall_precision': 0.0, 'overall_recall': 0.0}\n",
      "\n",
      "Example Recommendations:\n",
      "Subject Property: 118 Colborne St, Kingston, ON, K7K1C9\n",
      "\n",
      "Recommended comps:\n",
      "                           std_full_address  comp_score\n",
      "1525  124 Ordnance St, Kingston, ON, K7K1G6    0.000499\n",
      "1561   850 Johnson St, Kingston, ON, K7L2B8    0.000495\n",
      "1539  205 Adelaide St, Kingston, ON, K7K1Y6    0.000495\n",
      "\n",
      "Actual comps selected by appraiser:\n",
      "                            std_full_address\n",
      "53       368 Barrie St, Kingston, ON, K7K3T3\n",
      "52  297 University Ave, Kingston, ON, K7L3R3\n",
      "51      133 William St, Kingston, ON, K7L2C7\n"
     ]
    }
   ],
   "source": [
    "# Train/evaluate XGBoost and make recommendations\n",
    "train_and_evaluate_xgboost(force_reprocessing=False)"
   ]
  }
 ],
 "metadata": {
  "kernelspec": {
   "display_name": "comprec",
   "language": "python",
   "name": "python3"
  },
  "language_info": {
   "codemirror_mode": {
    "name": "ipython",
    "version": 3
   },
   "file_extension": ".py",
   "mimetype": "text/x-python",
   "name": "python",
   "nbconvert_exporter": "python",
   "pygments_lexer": "ipython3",
   "version": "3.13.2"
  }
 },
 "nbformat": 4,
 "nbformat_minor": 5
}
